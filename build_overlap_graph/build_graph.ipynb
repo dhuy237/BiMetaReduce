{
 "cells": [
  {
   "cell_type": "code",
   "execution_count": 1,
   "metadata": {},
   "outputs": [],
   "source": [
    "import pyspark\n",
    "from pyspark.sql import SparkSession\n",
    "from graphframes import GraphFrame\n",
    "\n",
    "import networkx as nx\n",
    "import re\n",
    "from matplotlib import pyplot as plt\n",
    "from igraph import Graph, plot\n",
    "import pandas as pd\n",
    "from pandas.core.common import flatten"
   ]
  },
  {
   "cell_type": "code",
   "execution_count": 2,
   "metadata": {},
   "outputs": [],
   "source": [
    "LENGTHS_OF_K_MERS = [4]\n",
    "LENGTH_OF_Q_MERS = 30   # q (short: 20, long: 30, 3species: 10)\n",
    "NUM_SHARED_READS = 45   # m (short: 5, long: 45, 3species: 2)\n",
    "N_WORKERS = 30\n",
    "DATA_PATH = \"../data/\"\n",
    "FILENAME_VERTICES = DATA_PATH + 'output_1_1_2.txt'\n",
    "FILENAME_EDGES = DATA_PATH + 'output_2_1_2.txt'\n",
    "IS_TFIDF = False\n",
    "SMARTIRS = None"
   ]
  },
  {
   "cell_type": "markdown",
   "metadata": {},
   "source": [
    "# BiMeta"
   ]
  },
  {
   "cell_type": "markdown",
   "metadata": {},
   "source": [
    "Example of how to use `pyspark` and `graphframe` is in `test/spark/hello_graph.ipynb` "
   ]
  },
  {
   "cell_type": "markdown",
   "metadata": {},
   "source": [
    "## Read input file"
   ]
  },
  {
   "cell_type": "markdown",
   "metadata": {},
   "source": [
    "### Read vertices"
   ]
  },
  {
   "cell_type": "code",
   "execution_count": 12,
   "metadata": {},
   "outputs": [
    {
     "data": {
      "text/plain": [
       "['0',\n",
       " 'AAACCCTCTTCCACGAACCCTCTTGAAAATCCCCCACATCCACAAAATAAATCAAATAAATTTCAACATTATCACCAAAAGGGTAAAAGGTTATTTAAAAAATAAAATAAATTTAAAAATTTAAATTAAATACCAAAAAAGCCAAATAACTTATTGTGATTCTTGAGCTTTCTTTAACTCTGCCTTCATATCTTGATAGACTTTAGTCCATTTTAATTTTCTTGGATTTCTTCCCATTCTGTAGCTTTTCTCACATTTGGATGAGCAGAAATATAATACAGTCCCATCTTTTTCTACGACCATTTTTCCTTTTCCTGGCTCAATTTCATAACCACAAAAGCTGCATGTTCTCCATTCTGGCATAGCTATCCCCCTTTAATAGTGTTTCAGTGATTTTAAAATAATTTAAGATTAAATTATTTATCTTCTTCTGTCTAATGGTCTTGCTTCTCTCTCTGTTTCTCTTAACATAATAATGTCTCCAACTTTAACTGGACCTTTAACGTTTCTAACTAAAACTCTTCCAGTATCTTTTCCACCTAAGATTTTACATCTAACTTGTATAATTCCTCCAGTAACCCCTGTTCTACCAATGACTTCAATAACTTCAGCAGCTACTGCTTCCTTATAAACAAATTCATCTTCCGATCCTCATCACCTAATATTAATGAAGGTTTAAAATTTATAAAAAAGTTAGTAGTAGTGTTTCATAATTTATATAATAATAACTATATACTATTGATTGATGGTTAAATAGCGTTCTAATAATTTACTGCTTCAAAACATTTACCTTTTCAATTAATACCTTTAACTCTTCAGCATCTCCTTCGTTG',\n",
       " '0']"
      ]
     },
     "execution_count": 12,
     "metadata": {},
     "output_type": "execute_result"
    }
   ],
   "source": [
    "# Test clean line method\n",
    "with open(FILENAME_VERTICES) as f:\n",
    "    content = f.readlines()\n",
    "    \n",
    "a = content[0]\n",
    "\n",
    "# Notice: There are differences between raw input and print()\n",
    "\n",
    "# Long method\n",
    "# a.replace('null\\t', '').replace('\\n', '').replace('[', '').replace(']', '').replace(' \"','').replace('\"','').split(',')\n",
    "\n",
    "# Better method with regex\n",
    "re.sub('[null\\t\\n\\[\\]\\\"\"]', '', a).replace(' ', '').split(',')"
   ]
  },
  {
   "cell_type": "code",
   "execution_count": 13,
   "metadata": {},
   "outputs": [
    {
     "name": "stdout",
     "output_type": "stream",
     "text": [
      "[['0', 'AAACCCTCTTCCACGAACCCTCTTGAAAATCCCCCACATCCACAAAATAAATCAAATAAATTTCAACATTATCACCAAAAGGGTAAAAGGTTATTTAAAAAATAAAATAAATTTAAAAATTTAAATTAAATACCAAAAAAGCCAAATAACTTATTGTGATTCTTGAGCTTTCTTTAACTCTGCCTTCATATCTTGATAGACTTTAGTCCATTTTAATTTTCTTGGATTTCTTCCCATTCTGTAGCTTTTCTCACATTTGGATGAGCAGAAATATAATACAGTCCCATCTTTTTCTACGACCATTTTTCCTTTTCCTGGCTCAATTTCATAACCACAAAAGCTGCATGTTCTCCATTCTGGCATAGCTATCCCCCTTTAATAGTGTTTCAGTGATTTTAAAATAATTTAAGATTAAATTATTTATCTTCTTCTGTCTAATGGTCTTGCTTCTCTCTCTGTTTCTCTTAACATAATAATGTCTCCAACTTTAACTGGACCTTTAACGTTTCTAACTAAAACTCTTCCAGTATCTTTTCCACCTAAGATTTTACATCTAACTTGTATAATTCCTCCAGTAACCCCTGTTCTACCAATGACTTCAATAACTTCAGCAGCTACTGCTTCCTTATAAACAAATTCATCTTCCGATCCTCATCACCTAATATTAATGAAGGTTTAAAATTTATAAAAAAGTTAGTAGTAGTGTTTCATAATTTATATAATAATAACTATATACTATTGATTGATGGTTAAATAGCGTTCTAATAATTTACTGCTTCAAAACATTTACCTTTTCAATTAATACCTTTAACTCTTCAGCATCTCCTTCGTTG', '0'], ['1', 'TAGCATGTAAATCCCTTATTTCTTAATTTCTCCCAGAATTATTTCTATTGCTTTATCAACTGCCTTGGCAACCTCTTCAGACAACCCTGGTTTTATGTCTGGCATTGTAAATTTTTACCTTGACAACCAATAACCACGACTTCTATGCCTTTATTATGTAAATCTTTGAGAAATGGGGCTAATGGAACGTTATGGGCATCGAAAGAATATTTTTTAACTATTCGGTAATTCATCAACATCTATCTTTTTTATTGTTCCAGGTTCTAAATCAAAATCAATGGCGATCAACAACAATAATCTTTTTTATATCTTCATCAACCAACGTCATTAAATAGTATGCTCCACTTGCCCCAGCATCTATAACTTCAACGTTATCTGGCAAGTTCATTTTTTCTAATTTGCTAACAACCTCACATCCAAAGCCATCATCTCCAAACAACAGATTTCCACAACCAACAATTAATATATCCTTCTTTTTCATTTTATCACTTATTTAGCATTTCTTTATATTTTTTAGCCTCTTCTTTAGGATTTTGTGATTGATAGATTGCCCTTCCAACAATGACGTAATCATTCTCATCTAAAATATTTAAAATATCCTCAATCTTCCCTCCCTGAGCTCCGACTCCGTGGTGTTATTACTGGCAATTCTGCAATTTCTTTAATTTCTTTAAGCCTTTCAGGCCTTGTTGATGGAGCAACTATAGCATCAACTTTTAGTTTTTTTAGCCATCTCTGACAATTTATCTGCTATTGGCTGTAG', '0']]\n"
     ]
    }
   ],
   "source": [
    "V = []\n",
    "\n",
    "with open(FILENAME_VERTICES) as f:\n",
    "    content_vertices = f.readlines()\n",
    "\n",
    "for line in content_vertices:\n",
    "    clean_line = re.sub('[null\\t\\n\\[\\]\\\"\"]', '', line).replace(' ', '').split(',')\n",
    "    V.append(clean_line)\n",
    "    \n",
    "print(V[:2])"
   ]
  },
  {
   "cell_type": "code",
   "execution_count": 14,
   "metadata": {},
   "outputs": [
    {
     "data": {
      "text/html": [
       "<div>\n",
       "<style scoped>\n",
       "    .dataframe tbody tr th:only-of-type {\n",
       "        vertical-align: middle;\n",
       "    }\n",
       "\n",
       "    .dataframe tbody tr th {\n",
       "        vertical-align: top;\n",
       "    }\n",
       "\n",
       "    .dataframe thead th {\n",
       "        text-align: right;\n",
       "    }\n",
       "</style>\n",
       "<table border=\"1\" class=\"dataframe\">\n",
       "  <thead>\n",
       "    <tr style=\"text-align: right;\">\n",
       "      <th></th>\n",
       "      <th>id</th>\n",
       "      <th>read</th>\n",
       "      <th>label</th>\n",
       "    </tr>\n",
       "  </thead>\n",
       "  <tbody>\n",
       "    <tr>\n",
       "      <th>0</th>\n",
       "      <td>0</td>\n",
       "      <td>AAACCCTCTTCCACGAACCCTCTTGAAAATCCCCCACATCCACAAA...</td>\n",
       "      <td>0</td>\n",
       "    </tr>\n",
       "    <tr>\n",
       "      <th>1</th>\n",
       "      <td>1</td>\n",
       "      <td>TAGCATGTAAATCCCTTATTTCTTAATTTCTCCCAGAATTATTTCT...</td>\n",
       "      <td>0</td>\n",
       "    </tr>\n",
       "    <tr>\n",
       "      <th>2</th>\n",
       "      <td>2</td>\n",
       "      <td>GACTATAAGGCTGTCTTTAACTATATCTTATGTAGGGAAGCAGACA...</td>\n",
       "      <td>0</td>\n",
       "    </tr>\n",
       "    <tr>\n",
       "      <th>3</th>\n",
       "      <td>3</td>\n",
       "      <td>TTTCTATATAAACTTCTTCAATTCCTGCTGCCGATAATGAAGGGAC...</td>\n",
       "      <td>0</td>\n",
       "    </tr>\n",
       "    <tr>\n",
       "      <th>4</th>\n",
       "      <td>4</td>\n",
       "      <td>GGGAGGACCGCCAATAATAACATCTACTTTTTTATTTTTGATGAAC...</td>\n",
       "      <td>0</td>\n",
       "    </tr>\n",
       "  </tbody>\n",
       "</table>\n",
       "</div>"
      ],
      "text/plain": [
       "  id                                               read label\n",
       "0  0  AAACCCTCTTCCACGAACCCTCTTGAAAATCCCCCACATCCACAAA...     0\n",
       "1  1  TAGCATGTAAATCCCTTATTTCTTAATTTCTCCCAGAATTATTTCT...     0\n",
       "2  2  GACTATAAGGCTGTCTTTAACTATATCTTATGTAGGGAAGCAGACA...     0\n",
       "3  3  TTTCTATATAAACTTCTTCAATTCCTGCTGCCGATAATGAAGGGAC...     0\n",
       "4  4  GGGAGGACCGCCAATAATAACATCTACTTTTTTATTTTTGATGAAC...     0"
      ]
     },
     "execution_count": 14,
     "metadata": {},
     "output_type": "execute_result"
    }
   ],
   "source": [
    "df_vertices = pd.DataFrame(V, columns=[\"id\", \"read\", \"label\"])\n",
    "df_vertices.head()"
   ]
  },
  {
   "cell_type": "markdown",
   "metadata": {},
   "source": [
    "### Read edges"
   ]
  },
  {
   "cell_type": "code",
   "execution_count": 71,
   "metadata": {},
   "outputs": [
    {
     "name": "stdout",
     "output_type": "stream",
     "text": [
      "{('0', '4'): '394'}\n"
     ]
    }
   ],
   "source": [
    "# Method 1: Format input file as dictionary format like original notebook code\n",
    "\n",
    "E = {}\n",
    "\n",
    "with open(FILENAME_EDGES) as f:\n",
    "    content_edges = f.readlines()\n",
    "\n",
    "for line in content_edges:\n",
    "    # Get number character only -> remove leading and trailing whitespaces -> splits a string into a list (separator: whitespace)\n",
    "    clean_line = re.sub(\"[^0-9]\", \" \", line).strip().split()\n",
    "    e_curr = (clean_line[0],  clean_line[1])\n",
    "    E[e_curr] = clean_line[2]\n",
    "    \n",
    "print(E)"
   ]
  },
  {
   "cell_type": "code",
   "execution_count": 72,
   "metadata": {
    "scrolled": true
   },
   "outputs": [
    {
     "data": {
      "text/plain": [
       "{('0', '4'): '394'}"
      ]
     },
     "execution_count": 72,
     "metadata": {},
     "output_type": "execute_result"
    }
   ],
   "source": [
    "# Contain pairs of reads that is connected (edge weight >= NUM_SHARED_READS is connected)\n",
    "E_Filtered = {kv[0]: kv[1] for kv in E.items() if int(kv[1]) >= NUM_SHARED_READS}\n",
    "E_Filtered"
   ]
  },
  {
   "cell_type": "code",
   "execution_count": 73,
   "metadata": {},
   "outputs": [
    {
     "name": "stdout",
     "output_type": "stream",
     "text": [
      "[['0', '4', '394']]\n"
     ]
    }
   ],
   "source": [
    "# Method 2: Format input file as list format for easier to create dataframe\n",
    "\n",
    "E = []\n",
    "\n",
    "with open(FILENAME_EDGES) as f:\n",
    "    content_edges = f.readlines()\n",
    "\n",
    "for line in content_edges:\n",
    "    # Get number character only -> remove leading and trailing whitespaces -> splits a string into a list (separator: whitespace)\n",
    "    clean_line = re.sub(\"[^0-9]\", \" \", line).strip().split()\n",
    "    E.append([clean_line[0],  clean_line[1], clean_line[2]])\n",
    "    \n",
    "print(E)"
   ]
  },
  {
   "cell_type": "code",
   "execution_count": 74,
   "metadata": {},
   "outputs": [
    {
     "data": {
      "text/plain": [
       "[['0', '4', '394']]"
      ]
     },
     "execution_count": 74,
     "metadata": {},
     "output_type": "execute_result"
    }
   ],
   "source": [
    "E_Filtered = [kv for kv in E if int(kv[2]) >= NUM_SHARED_READS]\n",
    "E_Filtered"
   ]
  },
  {
   "cell_type": "code",
   "execution_count": 65,
   "metadata": {},
   "outputs": [],
   "source": [
    "# Original notebook code using networkx\n",
    "\n",
    "def build_graph(E_Filtered, labels):\n",
    "    # Building graph\n",
    "    G = nx.Graph()\n",
    "    # Adding nodes\n",
    "    color_map = {\n",
    "        0: \"red\",\n",
    "        1: \"green\",\n",
    "        2: \"blue\",\n",
    "        3: \"yellow\",\n",
    "        4: \"darkcyan\",\n",
    "        5: \"violet\",\n",
    "        6: \"black\",\n",
    "        7: \"grey\",\n",
    "        8: \"sienna\",\n",
    "        9: \"wheat\",\n",
    "        10: \"olive\",\n",
    "        11: \"lightgreen\",\n",
    "        12: \"cyan\",\n",
    "        13: \"slategray\",\n",
    "        14: \"navy\",\n",
    "        15: \"hotpink\",\n",
    "    }\n",
    "    for i in range(0, len(labels)):\n",
    "        G.add_node(i, label=labels[i], color=color_map[labels[i]])\n",
    "\n",
    "    # Adding edges\n",
    "    for kv in E_Filtered.items():\n",
    "        G.add_edge(kv[0][0], kv[0][1], weight=kv[1])\n",
    "\n",
    "    return G"
   ]
  },
  {
   "cell_type": "code",
   "execution_count": 55,
   "metadata": {},
   "outputs": [
    {
     "data": {
      "text/html": [
       "<div>\n",
       "<style scoped>\n",
       "    .dataframe tbody tr th:only-of-type {\n",
       "        vertical-align: middle;\n",
       "    }\n",
       "\n",
       "    .dataframe tbody tr th {\n",
       "        vertical-align: top;\n",
       "    }\n",
       "\n",
       "    .dataframe thead th {\n",
       "        text-align: right;\n",
       "    }\n",
       "</style>\n",
       "<table border=\"1\" class=\"dataframe\">\n",
       "  <thead>\n",
       "    <tr style=\"text-align: right;\">\n",
       "      <th></th>\n",
       "      <th>src</th>\n",
       "      <th>dst</th>\n",
       "      <th>weight</th>\n",
       "    </tr>\n",
       "  </thead>\n",
       "  <tbody>\n",
       "    <tr>\n",
       "      <th>0</th>\n",
       "      <td>0</td>\n",
       "      <td>4</td>\n",
       "      <td>394</td>\n",
       "    </tr>\n",
       "  </tbody>\n",
       "</table>\n",
       "</div>"
      ],
      "text/plain": [
       "  src dst weight\n",
       "0   0   4    394"
      ]
     },
     "execution_count": 55,
     "metadata": {},
     "output_type": "execute_result"
    }
   ],
   "source": [
    "df_edges = pd.DataFrame(E_Filtered, columns=['src', 'dst', 'weight'])\n",
    "df_edges.head()"
   ]
  },
  {
   "cell_type": "markdown",
   "metadata": {},
   "source": [
    "## Create graph"
   ]
  },
  {
   "cell_type": "code",
   "execution_count": 56,
   "metadata": {},
   "outputs": [],
   "source": [
    "spark = SparkSession.builder.appName(\"build_graph\").getOrCreate()"
   ]
  },
  {
   "cell_type": "code",
   "execution_count": 57,
   "metadata": {},
   "outputs": [],
   "source": [
    "vertices = spark.createDataFrame(df_vertices)"
   ]
  },
  {
   "cell_type": "code",
   "execution_count": 58,
   "metadata": {},
   "outputs": [],
   "source": [
    "edges = spark.createDataFrame(df_edges)"
   ]
  },
  {
   "cell_type": "code",
   "execution_count": 60,
   "metadata": {},
   "outputs": [],
   "source": [
    "g = GraphFrame(vertices, edges)"
   ]
  },
  {
   "cell_type": "code",
   "execution_count": 61,
   "metadata": {
    "scrolled": true
   },
   "outputs": [
    {
     "name": "stdout",
     "output_type": "stream",
     "text": [
      "+---+--------------------+-----+\n",
      "| id|                read|label|\n",
      "+---+--------------------+-----+\n",
      "|  0|AAACCCTCTTCCACGAA...|    0|\n",
      "|  1|TAGCATGTAAATCCCTT...|    0|\n",
      "|  2|GACTATAAGGCTGTCTT...|    0|\n",
      "|  3|TTTCTATATAAACTTCT...|    0|\n",
      "|  4|GGGAGGACCGCCAATAA...|    0|\n",
      "|  5|GAATCAGAATCATCTTC...|    1|\n",
      "|  6|AAAATCAGAAGTTTTTG...|    1|\n",
      "+---+--------------------+-----+\n",
      "\n"
     ]
    }
   ],
   "source": [
    "g.vertices.show()"
   ]
  },
  {
   "cell_type": "code",
   "execution_count": 62,
   "metadata": {
    "scrolled": true
   },
   "outputs": [
    {
     "name": "stdout",
     "output_type": "stream",
     "text": [
      "+---+---+------+\n",
      "|src|dst|weight|\n",
      "+---+---+------+\n",
      "|  0|  4|   394|\n",
      "+---+---+------+\n",
      "\n"
     ]
    }
   ],
   "source": [
    "g.edges.show()"
   ]
  },
  {
   "cell_type": "markdown",
   "metadata": {},
   "source": [
    "## Visualize graph"
   ]
  },
  {
   "cell_type": "code",
   "execution_count": 69,
   "metadata": {},
   "outputs": [
    {
     "data": {
      "image/svg+xml": [
       "<?xml version=\"1.0\" encoding=\"UTF-8\"?>\n",
       "<svg xmlns=\"http://www.w3.org/2000/svg\" xmlns:xlink=\"http://www.w3.org/1999/xlink\" width=\"600pt\" height=\"600pt\" viewBox=\"0 0 600 600\" version=\"1.1\">\n",
       "<g id=\"surface20\">\n",
       "<rect x=\"0\" y=\"0\" width=\"600\" height=\"600\" style=\"fill:rgb(100%,100%,100%);fill-opacity:1;stroke:none;\"/>\n",
       "<path style=\"fill:none;stroke-width:1;stroke-linecap:butt;stroke-linejoin:miter;stroke:rgb(26.666667%,26.666667%,26.666667%);stroke-opacity:1;stroke-miterlimit:10;\" d=\"M 580 20 L 20 580 \"/>\n",
       "<path style=\"fill-rule:nonzero;fill:rgb(100%,0%,0%);fill-opacity:1;stroke-width:1;stroke-linecap:butt;stroke-linejoin:miter;stroke:rgb(0%,0%,0%);stroke-opacity:1;stroke-miterlimit:10;\" d=\"M 590 20 C 590 25.523438 585.523438 30 580 30 C 574.476562 30 570 25.523438 570 20 C 570 14.476562 574.476562 10 580 10 C 585.523438 10 590 14.476562 590 20 \"/>\n",
       "<path style=\"fill-rule:nonzero;fill:rgb(100%,0%,0%);fill-opacity:1;stroke-width:1;stroke-linecap:butt;stroke-linejoin:miter;stroke:rgb(0%,0%,0%);stroke-opacity:1;stroke-miterlimit:10;\" d=\"M 30 580 C 30 585.523438 25.523438 590 20 590 C 14.476562 590 10 585.523438 10 580 C 10 574.476562 14.476562 570 20 570 C 25.523438 570 30 574.476562 30 580 \"/>\n",
       "</g>\n",
       "</svg>\n"
      ],
      "text/plain": [
       "<igraph.drawing.Plot at 0x7f2a09308c40>"
      ]
     },
     "execution_count": 69,
     "metadata": {
      "image/svg+xml": {
       "isolated": true
      }
     },
     "output_type": "execute_result"
    }
   ],
   "source": [
    "ig = Graph.TupleList(g.edges.collect(), directed=False)\n",
    "plot(ig)"
   ]
  },
  {
   "cell_type": "code",
   "execution_count": null,
   "metadata": {},
   "outputs": [],
   "source": []
  }
 ],
 "metadata": {
  "kernelspec": {
   "display_name": "Python 3",
   "language": "python",
   "name": "python3"
  },
  "language_info": {
   "codemirror_mode": {
    "name": "ipython",
    "version": 3
   },
   "file_extension": ".py",
   "mimetype": "text/x-python",
   "name": "python",
   "nbconvert_exporter": "python",
   "pygments_lexer": "ipython3",
   "version": "3.8.5"
  }
 },
 "nbformat": 4,
 "nbformat_minor": 4
}
