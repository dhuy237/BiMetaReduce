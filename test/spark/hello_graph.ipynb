{
 "cells": [
  {
   "cell_type": "code",
   "execution_count": 1,
   "metadata": {},
   "outputs": [],
   "source": [
    "from pyspark import *\n",
    "from pyspark.sql import *\n",
    "from graphframes import *"
   ]
  },
  {
   "cell_type": "code",
   "execution_count": 2,
   "metadata": {},
   "outputs": [],
   "source": [
    "spark = SparkSession.builder.appName(\"fun\").getOrCreate()"
   ]
  },
  {
   "cell_type": "code",
   "execution_count": 3,
   "metadata": {},
   "outputs": [],
   "source": [
    "vertices = spark.createDataFrame(\n",
    "    [\n",
    "        (\"1\", \"Carter\", \"Derrick\", 50),\n",
    "        (\"2\", \"May\", \"Derrick\", 26),\n",
    "        (\"3\", \"Mills\", \"Jeff\", 80),\n",
    "        (\"4\", \"Hood\", \"Robert\", 65),\n",
    "        (\"5\", \"Banks\", \"Mike\", 93),\n",
    "        (\"98\", \"Berg\", \"Tim\", 28),\n",
    "        (\"99\", \"Page\", \"Allan\", 16),\n",
    "    ],\n",
    "    [\"id\", \"name\", \"firstname\", \"age\"],\n",
    ")\n",
    "edges = spark.createDataFrame(\n",
    "    [\n",
    "        (\"1\", \"2\", \"friend\"),\n",
    "        (\"2\", \"1\", \"friend\"),\n",
    "        (\"3\", \"1\", \"friend\"),\n",
    "        (\"1\", \"3\", \"friend\"),\n",
    "        (\"2\", \"3\", \"follows\"),\n",
    "        (\"3\", \"4\", \"friend\"),\n",
    "        (\"4\", \"3\", \"friend\"),\n",
    "        (\"5\", \"3\", \"friend\"),\n",
    "        (\"3\", \"5\", \"friend\"),\n",
    "        (\"4\", \"5\", \"follows\"),\n",
    "        (\"98\", \"99\", \"friend\"),\n",
    "        (\"99\", \"98\", \"friend\"),\n",
    "    ],\n",
    "    [\"src\", \"dst\", \"type\"],\n",
    ")"
   ]
  },
  {
   "cell_type": "code",
   "execution_count": 4,
   "metadata": {},
   "outputs": [],
   "source": [
    "g = GraphFrame(vertices, edges)"
   ]
  },
  {
   "cell_type": "code",
   "execution_count": 5,
   "metadata": {},
   "outputs": [
    {
     "name": "stdout",
     "output_type": "stream",
     "text": [
      "+---+------+---------+---+\n",
      "| id|  name|firstname|age|\n",
      "+---+------+---------+---+\n",
      "|  1|Carter|  Derrick| 50|\n",
      "|  2|   May|  Derrick| 26|\n",
      "|  3| Mills|     Jeff| 80|\n",
      "|  4|  Hood|   Robert| 65|\n",
      "|  5| Banks|     Mike| 93|\n",
      "| 98|  Berg|      Tim| 28|\n",
      "| 99|  Page|    Allan| 16|\n",
      "+---+------+---------+---+\n",
      "\n"
     ]
    }
   ],
   "source": [
    "# Take a look at the DataFrames\n",
    "g.vertices.show()"
   ]
  },
  {
   "cell_type": "code",
   "execution_count": 6,
   "metadata": {},
   "outputs": [
    {
     "name": "stdout",
     "output_type": "stream",
     "text": [
      "+---+---+-------+\n",
      "|src|dst|   type|\n",
      "+---+---+-------+\n",
      "|  1|  2| friend|\n",
      "|  2|  1| friend|\n",
      "|  3|  1| friend|\n",
      "|  1|  3| friend|\n",
      "|  2|  3|follows|\n",
      "|  3|  4| friend|\n",
      "|  4|  3| friend|\n",
      "|  5|  3| friend|\n",
      "|  3|  5| friend|\n",
      "|  4|  5|follows|\n",
      "| 98| 99| friend|\n",
      "| 99| 98| friend|\n",
      "+---+---+-------+\n",
      "\n"
     ]
    }
   ],
   "source": [
    "g.edges.show()"
   ]
  },
  {
   "cell_type": "code",
   "execution_count": 7,
   "metadata": {},
   "outputs": [
    {
     "name": "stdout",
     "output_type": "stream",
     "text": [
      "+---+------+\n",
      "| id|degree|\n",
      "+---+------+\n",
      "|  3|     7|\n",
      "| 98|     2|\n",
      "| 99|     2|\n",
      "|  5|     3|\n",
      "|  1|     4|\n",
      "|  4|     3|\n",
      "|  2|     3|\n",
      "+---+------+\n",
      "\n"
     ]
    }
   ],
   "source": [
    "# Check the number of edges of each vertex\n",
    "g.degrees.show()"
   ]
  },
  {
   "cell_type": "code",
   "execution_count": null,
   "metadata": {},
   "outputs": [],
   "source": []
  }
 ],
 "metadata": {
  "kernelspec": {
   "display_name": "Python 3",
   "language": "python",
   "name": "python3"
  },
  "language_info": {
   "codemirror_mode": {
    "name": "ipython",
    "version": 3
   },
   "file_extension": ".py",
   "mimetype": "text/x-python",
   "name": "python",
   "nbconvert_exporter": "python",
   "pygments_lexer": "ipython3",
   "version": "3.8.5"
  }
 },
 "nbformat": 4,
 "nbformat_minor": 4
}
