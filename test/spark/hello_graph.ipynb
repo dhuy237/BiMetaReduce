{
 "cells": [
  {
   "cell_type": "code",
   "execution_count": 1,
   "metadata": {},
   "outputs": [],
   "source": [
    "import pyspark\n",
    "from pyspark.sql import SparkSession\n",
    "from graphframes import GraphFrame\n",
    "\n",
    "import networkx as nx\n",
    "from matplotlib import pyplot as plt\n",
    "from igraph import Graph, plot"
   ]
  },
  {
   "cell_type": "markdown",
   "metadata": {},
   "source": [
    "# Example of PySpark and GraphFrame"
   ]
  },
  {
   "cell_type": "markdown",
   "metadata": {},
   "source": [
    "## Create graph"
   ]
  },
  {
   "cell_type": "code",
   "execution_count": 2,
   "metadata": {},
   "outputs": [],
   "source": [
    "spark = SparkSession.builder.appName(\"build_example_graph\").getOrCreate()"
   ]
  },
  {
   "cell_type": "code",
   "execution_count": 3,
   "metadata": {},
   "outputs": [],
   "source": [
    "vertices = spark.createDataFrame(\n",
    "    [\n",
    "        (\"1\", \"Carter\", \"Derrick\", 50),\n",
    "        (\"2\", \"May\", \"Derrick\", 26),\n",
    "        (\"3\", \"Mills\", \"Jeff\", 80),\n",
    "        (\"4\", \"Hood\", \"Robert\", 65),\n",
    "        (\"5\", \"Banks\", \"Mike\", 93),\n",
    "        (\"98\", \"Berg\", \"Tim\", 28),\n",
    "        (\"99\", \"Page\", \"Allan\", 16),\n",
    "    ],\n",
    "    [\"id\", \"name\", \"firstname\", \"age\"],\n",
    ")\n",
    "edges = spark.createDataFrame(\n",
    "    [\n",
    "        (\"1\", \"2\", \"friend\"),\n",
    "        (\"2\", \"1\", \"friend\"),\n",
    "        (\"3\", \"1\", \"friend\"),\n",
    "        (\"1\", \"3\", \"friend\"),\n",
    "        (\"2\", \"3\", \"follows\"),\n",
    "        (\"3\", \"4\", \"friend\"),\n",
    "        (\"4\", \"3\", \"friend\"),\n",
    "        (\"5\", \"3\", \"friend\"),\n",
    "        (\"3\", \"5\", \"friend\"),\n",
    "        (\"4\", \"5\", \"follows\"),\n",
    "        (\"98\", \"99\", \"friend\"),\n",
    "        (\"99\", \"98\", \"friend\"),\n",
    "    ],\n",
    "    [\"src\", \"dst\", \"type\"],\n",
    ")"
   ]
  },
  {
   "cell_type": "code",
   "execution_count": 4,
   "metadata": {},
   "outputs": [],
   "source": [
    "g = GraphFrame(vertices, edges)"
   ]
  },
  {
   "cell_type": "code",
   "execution_count": 5,
   "metadata": {},
   "outputs": [
    {
     "name": "stdout",
     "output_type": "stream",
     "text": [
      "+---+------+---------+---+\n",
      "| id|  name|firstname|age|\n",
      "+---+------+---------+---+\n",
      "|  1|Carter|  Derrick| 50|\n",
      "|  2|   May|  Derrick| 26|\n",
      "|  3| Mills|     Jeff| 80|\n",
      "|  4|  Hood|   Robert| 65|\n",
      "|  5| Banks|     Mike| 93|\n",
      "| 98|  Berg|      Tim| 28|\n",
      "| 99|  Page|    Allan| 16|\n",
      "+---+------+---------+---+\n",
      "\n"
     ]
    }
   ],
   "source": [
    "# Take a look at the DataFrames\n",
    "g.vertices.show()"
   ]
  },
  {
   "cell_type": "code",
   "execution_count": 6,
   "metadata": {},
   "outputs": [
    {
     "name": "stdout",
     "output_type": "stream",
     "text": [
      "+---+---+-------+\n",
      "|src|dst|   type|\n",
      "+---+---+-------+\n",
      "|  1|  2| friend|\n",
      "|  2|  1| friend|\n",
      "|  3|  1| friend|\n",
      "|  1|  3| friend|\n",
      "|  2|  3|follows|\n",
      "|  3|  4| friend|\n",
      "|  4|  3| friend|\n",
      "|  5|  3| friend|\n",
      "|  3|  5| friend|\n",
      "|  4|  5|follows|\n",
      "| 98| 99| friend|\n",
      "| 99| 98| friend|\n",
      "+---+---+-------+\n",
      "\n"
     ]
    }
   ],
   "source": [
    "g.edges.show()"
   ]
  },
  {
   "cell_type": "code",
   "execution_count": 7,
   "metadata": {},
   "outputs": [
    {
     "name": "stdout",
     "output_type": "stream",
     "text": [
      "+---+------+\n",
      "| id|degree|\n",
      "+---+------+\n",
      "|  3|     7|\n",
      "| 98|     2|\n",
      "| 99|     2|\n",
      "|  5|     3|\n",
      "|  1|     4|\n",
      "|  4|     3|\n",
      "|  2|     3|\n",
      "+---+------+\n",
      "\n"
     ]
    }
   ],
   "source": [
    "# Check the number of edges of each vertex\n",
    "g.degrees.show()"
   ]
  },
  {
   "cell_type": "markdown",
   "metadata": {},
   "source": [
    "## Visualize graph"
   ]
  },
  {
   "cell_type": "code",
   "execution_count": 8,
   "metadata": {},
   "outputs": [],
   "source": [
    "# Using networkx\n",
    "def PlotGraph(edge_list):\n",
    "    Gplot = nx.Graph()\n",
    "    for row in edge_list.select('src','dst').take(1000):\n",
    "        Gplot.add_edge(row['src'],row['dst'])\n",
    "\n",
    "    plt.subplot(121)\n",
    "    nx.draw(Gplot)"
   ]
  },
  {
   "cell_type": "code",
   "execution_count": 9,
   "metadata": {},
   "outputs": [
    {
     "data": {
      "image/png": "[encoded data removed]",
      "text/plain": [
       "<Figure size 432x288 with 1 Axes>"
      ]
     },
     "metadata": {},
     "output_type": "display_data"
    }
   ],
   "source": [
    "PlotGraph(g.edges)"
   ]
  },
  {
   "cell_type": "code",
   "execution_count": 10,
   "metadata": {},
   "outputs": [
    {
     "data": {
      "image/svg+xml": [
       "<?xml version=\"1.0\" encoding=\"UTF-8\"?>\n",
       "<svg xmlns=\"http://www.w3.org/2000/svg\" xmlns:xlink=\"http://www.w3.org/1999/xlink\" width=\"600pt\" height=\"600pt\" viewBox=\"0 0 600 600\" version=\"1.1\">\n",
       "<g id=\"surface2\">\n",
       "<rect x=\"0\" y=\"0\" width=\"600\" height=\"600\" style=\"fill:rgb(100%,100%,100%);fill-opacity:1;stroke:none;\"/>\n",
       "<path style=\"fill:none;stroke-width:1;stroke-linecap:butt;stroke-linejoin:miter;stroke:rgb(26.666667%,26.666667%,26.666667%);stroke-opacity:1;stroke-miterlimit:10;\" d=\"M 347.300781 457.359375 C 304.359375 476.769531 281.921875 510.816406 292.800781 556.457031 \"/>\n",
       "<path style=\" stroke:none;fill-rule:nonzero;fill:rgb(26.666667%,26.666667%,26.666667%);fill-opacity:1;\" d=\"M 296.105469 570.335938 L 288.289062 557.53125 L 297.308594 555.382812 L 296.105469 570.335938 \"/>\n",
       "<path style=\"fill:none;stroke-width:1;stroke-linecap:butt;stroke-linejoin:miter;stroke:rgb(26.666667%,26.666667%,26.666667%);stroke-opacity:1;stroke-miterlimit:10;\" d=\"M 298.410156 580 C 341.351562 560.59375 363.789062 526.542969 352.914062 480.902344 \"/>\n",
       "<path style=\" stroke:none;fill-rule:nonzero;fill:rgb(26.666667%,26.666667%,26.666667%);fill-opacity:1;\" d=\"M 349.605469 467.027344 L 357.421875 479.828125 L 348.402344 481.976562 L 349.605469 467.027344 \"/>\n",
       "<path style=\"fill:none;stroke-width:1;stroke-linecap:butt;stroke-linejoin:miter;stroke:rgb(26.666667%,26.666667%,26.666667%);stroke-opacity:1;stroke-miterlimit:10;\" d=\"M 185.554688 388.90625 C 247.191406 367.5625 300.644531 381.179688 334.632812 436.675781 \"/>\n",
       "<path style=\" stroke:none;fill-rule:nonzero;fill:rgb(26.666667%,26.666667%,26.666667%);fill-opacity:1;\" d=\"M 342.085938 448.84375 L 330.679688 439.097656 L 338.585938 434.253906 L 342.085938 448.84375 \"/>\n",
       "<path style=\"fill:none;stroke-width:1;stroke-linecap:butt;stroke-linejoin:miter;stroke:rgb(26.666667%,26.666667%,26.666667%);stroke-opacity:1;stroke-miterlimit:10;\" d=\"M 347.300781 457.359375 C 285.667969 478.707031 232.210938 465.089844 198.222656 409.59375 \"/>\n",
       "<path style=\" stroke:none;fill-rule:nonzero;fill:rgb(26.666667%,26.666667%,26.666667%);fill-opacity:1;\" d=\"M 190.773438 397.425781 L 202.175781 407.171875 L 194.269531 412.011719 L 190.773438 397.425781 \"/>\n",
       "<path style=\"fill:none;stroke-width:1;stroke-linecap:butt;stroke-linejoin:miter;stroke:rgb(26.666667%,26.666667%,26.666667%);stroke-opacity:1;stroke-miterlimit:10;\" d=\"M 298.410156 580 L 197.894531 409.800781 \"/>\n",
       "<path style=\" stroke:none;fill-rule:nonzero;fill:rgb(26.666667%,26.666667%,26.666667%);fill-opacity:1;\" d=\"M 190.640625 397.519531 L 201.886719 407.445312 L 193.90625 412.160156 L 190.640625 397.519531 \"/>\n",
       "<path style=\"fill:none;stroke-width:1;stroke-linecap:butt;stroke-linejoin:miter;stroke:rgb(26.666667%,26.666667%,26.666667%);stroke-opacity:1;stroke-miterlimit:10;\" d=\"M 185.554688 388.90625 C 149.695312 337.304688 100.28125 317.417969 42.394531 341.46875 \"/>\n",
       "<path style=\" stroke:none;fill-rule:nonzero;fill:rgb(26.666667%,26.666667%,26.666667%);fill-opacity:1;\" d=\"M 29.21875 346.941406 L 40.617188 337.1875 L 44.171875 345.75 L 29.21875 346.941406 \"/>\n",
       "<path style=\"fill:none;stroke-width:1;stroke-linecap:butt;stroke-linejoin:miter;stroke:rgb(26.666667%,26.666667%,26.666667%);stroke-opacity:1;stroke-miterlimit:10;\" d=\"M 20 350.773438 C 55.859375 402.375 105.273438 422.261719 163.160156 398.210938 \"/>\n",
       "<path style=\" stroke:none;fill-rule:nonzero;fill:rgb(26.666667%,26.666667%,26.666667%);fill-opacity:1;\" d=\"M 176.335938 392.738281 L 164.941406 402.492188 L 161.382812 393.929688 L 176.335938 392.738281 \"/>\n",
       "<path style=\"fill:none;stroke-width:1;stroke-linecap:butt;stroke-linejoin:miter;stroke:rgb(26.666667%,26.666667%,26.666667%);stroke-opacity:1;stroke-miterlimit:10;\" d=\"M 113.355469 224.136719 C 174.355469 251.84375 204.414062 299.769531 190.578125 365.171875 \"/>\n",
       "<path style=\" stroke:none;fill-rule:nonzero;fill:rgb(26.666667%,26.666667%,26.666667%);fill-opacity:1;\" d=\"M 187.625 379.128906 L 186.042969 364.214844 L 195.113281 366.132812 L 187.625 379.128906 \"/>\n",
       "<path style=\"fill:none;stroke-width:1;stroke-linecap:butt;stroke-linejoin:miter;stroke:rgb(26.666667%,26.666667%,26.666667%);stroke-opacity:1;stroke-miterlimit:10;\" d=\"M 185.554688 388.90625 C 124.558594 361.199219 94.5 313.273438 108.335938 247.871094 \"/>\n",
       "<path style=\" stroke:none;fill-rule:nonzero;fill:rgb(26.666667%,26.666667%,26.666667%);fill-opacity:1;\" d=\"M 111.289062 233.914062 L 112.871094 248.832031 L 103.800781 246.914062 L 111.289062 233.914062 \"/>\n",
       "<path style=\"fill:none;stroke-width:1;stroke-linecap:butt;stroke-linejoin:miter;stroke:rgb(26.666667%,26.666667%,26.666667%);stroke-opacity:1;stroke-miterlimit:10;\" d=\"M 20 350.773438 L 98.957031 243.667969 \"/>\n",
       "<path style=\" stroke:none;fill-rule:nonzero;fill:rgb(26.666667%,26.666667%,26.666667%);fill-opacity:1;\" d=\"M 107.421875 232.1875 L 102.6875 246.421875 L 95.226562 240.917969 L 107.421875 232.1875 \"/>\n",
       "<path style=\"fill:none;stroke-width:1;stroke-linecap:butt;stroke-linejoin:miter;stroke:rgb(26.666667%,26.666667%,26.666667%);stroke-opacity:1;stroke-miterlimit:10;\" d=\"M 580 123.527344 C 578.648438 70.785156 553.230469 33.347656 501.453125 24.210938 \"/>\n",
       "<path style=\" stroke:none;fill-rule:nonzero;fill:rgb(26.666667%,26.666667%,26.666667%);fill-opacity:1;\" d=\"M 487.40625 21.730469 L 502.257812 19.644531 L 500.648438 28.773438 L 487.40625 21.730469 \"/>\n",
       "<path style=\"fill:none;stroke-width:1;stroke-linecap:butt;stroke-linejoin:miter;stroke:rgb(26.666667%,26.666667%,26.666667%);stroke-opacity:1;stroke-miterlimit:10;\" d=\"M 477.601562 20 C 478.953125 72.742188 504.371094 110.179688 556.148438 119.320312 \"/>\n",
       "<path style=\" stroke:none;fill-rule:nonzero;fill:rgb(26.666667%,26.666667%,26.666667%);fill-opacity:1;\" d=\"M 570.195312 121.796875 L 555.339844 123.882812 L 556.953125 114.753906 L 570.195312 121.796875 \"/>\n",
       "<path style=\"fill-rule:nonzero;fill:rgb(100%,0%,0%);fill-opacity:1;stroke-width:1;stroke-linecap:butt;stroke-linejoin:miter;stroke:rgb(0%,0%,0%);stroke-opacity:1;stroke-miterlimit:10;\" d=\"M 357.300781 457.359375 C 357.300781 462.882812 352.824219 467.359375 347.300781 467.359375 C 341.777344 467.359375 337.300781 462.882812 337.300781 457.359375 C 337.300781 451.839844 341.777344 447.359375 347.300781 447.359375 C 352.824219 447.359375 357.300781 451.839844 357.300781 457.359375 \"/>\n",
       "<path style=\"fill-rule:nonzero;fill:rgb(100%,0%,0%);fill-opacity:1;stroke-width:1;stroke-linecap:butt;stroke-linejoin:miter;stroke:rgb(0%,0%,0%);stroke-opacity:1;stroke-miterlimit:10;\" d=\"M 308.410156 580 C 308.410156 585.523438 303.933594 590 298.410156 590 C 292.886719 590 288.410156 585.523438 288.410156 580 C 288.410156 574.476562 292.886719 570 298.410156 570 C 303.933594 570 308.410156 574.476562 308.410156 580 \"/>\n",
       "<path style=\"fill-rule:nonzero;fill:rgb(100%,0%,0%);fill-opacity:1;stroke-width:1;stroke-linecap:butt;stroke-linejoin:miter;stroke:rgb(0%,0%,0%);stroke-opacity:1;stroke-miterlimit:10;\" d=\"M 195.554688 388.90625 C 195.554688 394.429688 191.078125 398.90625 185.554688 398.90625 C 180.035156 398.90625 175.554688 394.429688 175.554688 388.90625 C 175.554688 383.382812 180.035156 378.90625 185.554688 378.90625 C 191.078125 378.90625 195.554688 383.382812 195.554688 388.90625 \"/>\n",
       "<path style=\"fill-rule:nonzero;fill:rgb(100%,0%,0%);fill-opacity:1;stroke-width:1;stroke-linecap:butt;stroke-linejoin:miter;stroke:rgb(0%,0%,0%);stroke-opacity:1;stroke-miterlimit:10;\" d=\"M 30 350.773438 C 30 356.296875 25.523438 360.773438 20 360.773438 C 14.476562 360.773438 10 356.296875 10 350.773438 C 10 345.25 14.476562 340.773438 20 340.773438 C 25.523438 340.773438 30 345.25 30 350.773438 \"/>\n",
       "<path style=\"fill-rule:nonzero;fill:rgb(100%,0%,0%);fill-opacity:1;stroke-width:1;stroke-linecap:butt;stroke-linejoin:miter;stroke:rgb(0%,0%,0%);stroke-opacity:1;stroke-miterlimit:10;\" d=\"M 123.355469 224.136719 C 123.355469 229.660156 118.878906 234.136719 113.355469 234.136719 C 107.835938 234.136719 103.355469 229.660156 103.355469 224.136719 C 103.355469 218.613281 107.835938 214.136719 113.355469 214.136719 C 118.878906 214.136719 123.355469 218.613281 123.355469 224.136719 \"/>\n",
       "<path style=\"fill-rule:nonzero;fill:rgb(100%,0%,0%);fill-opacity:1;stroke-width:1;stroke-linecap:butt;stroke-linejoin:miter;stroke:rgb(0%,0%,0%);stroke-opacity:1;stroke-miterlimit:10;\" d=\"M 590 123.527344 C 590 129.050781 585.523438 133.527344 580 133.527344 C 574.476562 133.527344 570 129.050781 570 123.527344 C 570 118.007812 574.476562 113.527344 580 113.527344 C 585.523438 113.527344 590 118.007812 590 123.527344 \"/>\n",
       "<path style=\"fill-rule:nonzero;fill:rgb(100%,0%,0%);fill-opacity:1;stroke-width:1;stroke-linecap:butt;stroke-linejoin:miter;stroke:rgb(0%,0%,0%);stroke-opacity:1;stroke-miterlimit:10;\" d=\"M 487.601562 20 C 487.601562 25.523438 483.121094 30 477.601562 30 C 472.078125 30 467.601562 25.523438 467.601562 20 C 467.601562 14.476562 472.078125 10 477.601562 10 C 483.121094 10 487.601562 14.476562 487.601562 20 \"/>\n",
       "</g>\n",
       "</svg>\n"
      ],
      "text/plain": [
       "<igraph.drawing.Plot at 0x7fd037ee1d00>"
      ]
     },
     "execution_count": 10,
     "metadata": {
      "image/svg+xml": {
       "isolated": true
      }
     },
     "output_type": "execute_result"
    }
   ],
   "source": [
    "# Using igraph\n",
    "ig = Graph.TupleList(g.edges.collect(), directed=True)\n",
    "plot(ig)"
   ]
  }
 ],
 "metadata": {
  "kernelspec": {
   "display_name": "Python 3",
   "language": "python",
   "name": "python3"
  },
  "language_info": {
   "codemirror_mode": {
    "name": "ipython",
    "version": 3
   },
   "file_extension": ".py",
   "mimetype": "text/x-python",
   "name": "python",
   "nbconvert_exporter": "python",
   "pygments_lexer": "ipython3",
   "version": "3.8.5"
  }
 },
 "nbformat": 4,
 "nbformat_minor": 4
}
